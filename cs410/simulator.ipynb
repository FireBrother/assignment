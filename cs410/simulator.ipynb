{
 "cells": [
  {
   "cell_type": "markdown",
   "metadata": {},
   "source": [
    "## 基于TuShare数据的模拟器测试"
   ]
  },
  {
   "cell_type": "code",
   "execution_count": 13,
   "metadata": {},
   "outputs": [],
   "source": [
    "from simulator_ts import Simulator as SimulatorTS\n",
    "import logging\n",
    "\n",
    "from utils import *\n",
    "logging.basicConfig(level=logging.DEBUG)"
   ]
  },
  {
   "cell_type": "code",
   "execution_count": 2,
   "metadata": {
    "scrolled": true
   },
   "outputs": [
    {
     "name": "stderr",
     "output_type": "stream",
     "text": [
      "INFO:simulator_ts:【模拟器初始化】数据key：hs300_k_data_hfq，起始现金：100000，起始日期：2015-01-01，手续费：0.03%（最低5元)，印花税：0.1%\n"
     ]
    }
   ],
   "source": [
    "sim = SimulatorTS()"
   ]
  },
  {
   "cell_type": "code",
   "execution_count": 3,
   "metadata": {},
   "outputs": [
    {
     "name": "stderr",
     "output_type": "stream",
     "text": [
      "DEBUG:simulator_ts:【创建固定金额交易】股票代码：600000，金额：100000，日期：2017-01-06\n",
      "DEBUG:simulator_ts:【发生交易】股票代码：600000，数量：867，日期：2017-01-06\n",
      "DEBUG:simulator_ts:【交易成功】手续费：29.98，印花税：0.00，当前持仓量：867，现金：28.326493\n",
      "DEBUG:simulator_ts:【创建目标股数交易】股票代码：600000，股数：0，日期：2018-01-08\n",
      "DEBUG:simulator_ts:【发生交易】股票代码：600000，数量：-867，日期：2018-01-08\n",
      "DEBUG:simulator_ts:【交易成功】手续费：30.94，印花税：103.12，当前持仓量：0，现金：103014.383346\n"
     ]
    }
   ],
   "source": [
    "sim.date = '2017-01-06'\n",
    "sim.order_value('600000', sim.cash)\n",
    "sim.date = '2018-01-08'\n",
    "sim.order_target('600000', 0)"
   ]
  },
  {
   "cell_type": "code",
   "execution_count": 4,
   "metadata": {
    "scrolled": true
   },
   "outputs": [
    {
     "name": "stderr",
     "output_type": "stream",
     "text": [
      "DEBUG:simulator_ts:【创建固定金额交易】股票代码：600000，金额：50000，日期：2017-01-06\n",
      "DEBUG:simulator_ts:【发生交易】股票代码：600000，数量：433，日期：2017-01-06\n",
      "DEBUG:simulator_ts:【交易成功】手续费：14.97，印花税：0.00，当前持仓量：433，现金：50071.817037\n",
      "DEBUG:simulator_ts:【创建固定金额交易】股票代码：600008，金额：50071，日期：2017-01-06\n",
      "DEBUG:simulator_ts:【发生交易】股票代码：600008，数量：2149，日期：2017-01-06\n",
      "DEBUG:simulator_ts:【交易成功】手续费：15.02，印花税：0.00，当前持仓量：2149，现金：-4.156249\n",
      "DEBUG:simulator_ts:【创建目标股数交易】股票代码：600000，股数：0，日期：2018-01-08\n",
      "DEBUG:simulator_ts:【发生交易】股票代码：600000，数量：-433，日期：2018-01-08\n",
      "DEBUG:simulator_ts:【交易成功】手续费：15.45，印花税：51.50，当前持仓量：0，现金：51429.479988\n",
      "DEBUG:simulator_ts:【创建目标股数交易】股票代码：600008，股数：0，日期：2018-01-08\n",
      "DEBUG:simulator_ts:【发生交易】股票代码：600008，数量：-2149，日期：2018-01-08\n",
      "DEBUG:simulator_ts:【交易成功】手续费：20.52，印花税：68.40，当前持仓量：0，现金：119736.787898\n"
     ]
    }
   ],
   "source": [
    "sim.reset()\n",
    "sim.date = '2017-01-06'\n",
    "sim.order_value('600000', sim.cash/2)\n",
    "sim.order_value('600008', sim.cash)\n",
    "sim.date = '2018-01-08'\n",
    "sim.order_target('600000', 0)\n",
    "sim.order_target('600008', 0)"
   ]
  },
  {
   "cell_type": "markdown",
   "metadata": {},
   "source": [
    "## 基于TuShare数据的模拟器测试（JSON格式）"
   ]
  },
  {
   "cell_type": "code",
   "execution_count": 5,
   "metadata": {
    "scrolled": true
   },
   "outputs": [
    {
     "name": "stderr",
     "output_type": "stream",
     "text": [
      "INFO:simulator_ts:【模拟器初始化】数据路径：hs300_k_data_qfq.json，起始现金：100000，起始日期：2015-01-01，手续费：0.03%（最低5元)，印花税：0.1%\n"
     ]
    }
   ],
   "source": [
    "qfq_sim = SimulatorTS(data_path='hs300_k_data_qfq.json')"
   ]
  },
  {
   "cell_type": "code",
   "execution_count": 6,
   "metadata": {},
   "outputs": [
    {
     "name": "stderr",
     "output_type": "stream",
     "text": [
      "DEBUG:simulator_ts:【创建固定金额交易】股票代码：600000，金额：100000，日期：2017-01-06\n",
      "DEBUG:simulator_ts:【发生交易】股票代码：600000，数量：8137，日期：2017-01-06\n",
      "DEBUG:simulator_ts:【交易成功】手续费：30.00，印花税：0.00，当前持仓量：8137，现金：-25.591678\n",
      "DEBUG:simulator_ts:【创建目标股数交易】股票代码：600000，股数：0，日期：2018-01-08\n",
      "DEBUG:simulator_ts:【发生交易】股票代码：600000，数量：-8137，日期：2018-01-08\n",
      "DEBUG:simulator_ts:【交易成功】手续费：30.95，印花税：103.18，当前持仓量：0，现金：103017.438014\n"
     ]
    }
   ],
   "source": [
    "qfq_sim.date = '2017-01-06'\n",
    "qfq_sim.order_value('600000', qfq_sim.cash)\n",
    "qfq_sim.date = '2018-01-08'\n",
    "qfq_sim.order_target('600000', 0)"
   ]
  },
  {
   "cell_type": "code",
   "execution_count": 7,
   "metadata": {},
   "outputs": [
    {
     "name": "stderr",
     "output_type": "stream",
     "text": [
      "DEBUG:simulator_ts:【创建固定金额交易】股票代码：600000，金额：50000，日期：2017-01-06\n",
      "DEBUG:simulator_ts:【发生交易】股票代码：600000，数量：4068，日期：2017-01-06\n",
      "DEBUG:simulator_ts:【交易成功】手续费：15.00，印花税：0.00，当前持仓量：4068，现金：49993.350504\n",
      "DEBUG:simulator_ts:【创建固定金额交易】股票代码：600008，金额：49993，日期：2017-01-06\n",
      "DEBUG:simulator_ts:【发生交易】股票代码：600008，数量：12265，日期：2017-01-06\n",
      "DEBUG:simulator_ts:【交易成功】手续费：15.00，印花税：0.00，当前持仓量：12265，现金：-13.787138\n",
      "DEBUG:simulator_ts:【创建目标股数交易】股票代码：600000，股数：0，日期：2018-01-08\n",
      "DEBUG:simulator_ts:【发生交易】股票代码：600000，数量：-4068，日期：2018-01-08\n",
      "DEBUG:simulator_ts:【交易成功】手续费：15.47，印花税：51.58，当前持仓量：0，现金：51501.395950\n",
      "DEBUG:simulator_ts:【创建目标股数交易】股票代码：600008，股数：0，日期：2018-01-08\n",
      "DEBUG:simulator_ts:【发生交易】股票代码：600008，数量：-12265，日期：2018-01-08\n",
      "DEBUG:simulator_ts:【交易成功】手续费：20.49，印花税：68.29，当前持仓量：0，现金：119704.136974\n"
     ]
    }
   ],
   "source": [
    "qfq_sim.reset()\n",
    "qfq_sim.date = '2017-01-06'\n",
    "qfq_sim.order_value('600000', qfq_sim.cash/2)\n",
    "qfq_sim.order_value('600008', qfq_sim.cash)\n",
    "qfq_sim.date = '2018-01-08'\n",
    "qfq_sim.order_target('600000', 0)\n",
    "qfq_sim.order_target('600008', 0)"
   ]
  },
  {
   "cell_type": "markdown",
   "metadata": {},
   "source": [
    "## 基于JQData数据的模拟器测试"
   ]
  },
  {
   "cell_type": "code",
   "execution_count": 14,
   "metadata": {},
   "outputs": [],
   "source": [
    "from simulator import Simulator\n",
    "from utils import *\n",
    "import logging\n",
    "logging.basicConfig(level=logging.DEBUG)"
   ]
  },
  {
   "cell_type": "code",
   "execution_count": 7,
   "metadata": {},
   "outputs": [
    {
     "name": "stderr",
     "output_type": "stream",
     "text": [
      "INFO:simulator:【模拟器初始化】数据key：prices，起始现金：100000，起始日期：2015-01-01，手续费：0.03%（最低5元)，印花税：0.1%\n"
     ]
    }
   ],
   "source": [
    "sim = Simulator()"
   ]
  },
  {
   "cell_type": "code",
   "execution_count": 16,
   "metadata": {},
   "outputs": [
    {
     "name": "stderr",
     "output_type": "stream",
     "text": [
      "DEBUG:simulator:【创建固定金额交易】股票代码：600000.XSHG，金额：100000，日期：2017-01-06\n",
      "DEBUG:simulator:【发生交易】股票代码：600000.XSHG，数量：8130，日期：2017-01-06\n",
      "DEBUG:simulator:【交易成功】手续费：30.00，印花税：0.00，当前持仓量：8130，现金：-28.999700\n",
      "DEBUG:simulator:【创建目标股数交易】股票代码：600000.XSHG，股数：0，日期：2018-01-08\n",
      "DEBUG:simulator:【发生交易】股票代码：600000.XSHG，数量：-8130，日期：2018-01-08\n",
      "DEBUG:simulator:【交易成功】手续费：30.93，印花税：103.09，当前持仓量：0，现金：102925.385380\n"
     ]
    }
   ],
   "source": [
    "sim.reset()\n",
    "sim.logger.setLevel(logging.DEBUG)\n",
    "sim.date = '2017-01-06'\n",
    "sim.order_value('600000.XSHG', sim.cash)\n",
    "sim.date = '2018-01-08'\n",
    "sim.order_target('600000.XSHG', 0)"
   ]
  },
  {
   "cell_type": "code",
   "execution_count": 10,
   "metadata": {},
   "outputs": [
    {
     "name": "stdout",
     "output_type": "stream",
     "text": [
      "2015-07-01 00:00:00 {'600000.XSHG': 9191.0} -28.079424000001744 99970.000576\n",
      "2015-08-03 00:00:00 {'600000.XSHG': 0.0} 95066.896188 95066.896188\n",
      "2015-09-01 00:00:00 {'600000.XSHG': 9302.0} -28.063744000003524 95038.376256\n",
      "2015-10-08 00:00:00 {'600000.XSHG': 0.0} 98259.156548 98259.156548\n",
      "2015-11-02 00:00:00 {'600000.XSHG': 8981.0} -22.459094000000395 98229.680906\n",
      "2015-12-01 00:00:00 {'600000.XSHG': 0.0} 111555.94017399999 111555.94017399999\n",
      "2016-01-04 00:00:00 {'600000.XSHG': 9406.0} -32.68637400000046 111522.47362599999\n",
      "2016-02-01 00:00:00 {'600000.XSHG': 0.0} 103298.807826 103298.807826\n",
      "2016-03-01 00:00:00 {'600000.XSHG': 8398.0} -27.58079400000489 103267.819206\n",
      "2016-04-01 00:00:00 {'600000.XSHG': 0.0} 101623.86031799999 101623.86031799999\n",
      "2016-05-03 00:00:00 {'600000.XSHG': 8412.0} -23.58477000001458 101593.37522999999\n",
      "2016-06-01 00:00:00 {'600000.XSHG': 0.0} 101797.31575799997 101797.31575799997\n",
      "2016-07-01 00:00:00 {'600000.XSHG': 8468.0} -18.57985000003268 101766.78014999996\n",
      "2016-08-01 00:00:00 {'600000.XSHG': 0.0} 100873.32993799995 100873.32993799995\n",
      "2016-09-01 00:00:00 {'600000.XSHG': 8082.0} -20.289070000048927 100843.07092999996\n",
      "2016-10-10 00:00:00 {'600000.XSHG': 0.0} 101519.09790199995 101519.09790199995\n",
      "2016-11-01 00:00:00 {'600000.XSHG': 8193.0} -22.625479000053666 101488.64452099995\n",
      "2016-12-01 00:00:00 {'600000.XSHG': 0.0} 106675.20678499993 106675.20678499993\n",
      "2017-01-03 00:00:00 {'600000.XSHG': 8609.0} -22.302868000079943 106643.20713199992\n",
      "2017-02-03 00:00:00 {'600000.XSHG': 0.0} 108653.99404399992 108653.99404399992\n",
      "2017-03-01 00:00:00 {'600000.XSHG': 8630.0} -30.301466000078 108621.39853399992\n",
      "2017-04-05 00:00:00 {'600000.XSHG': 0.0} 105894.51702399991 105894.51702399991\n",
      "2017-05-02 00:00:00 {'600000.XSHG': 9184.0} -28.770432000076156 105862.74956799991\n",
      "2017-06-01 00:00:00 {'600000.XSHG': 0.0} 118474.25510399992 118474.25510399992\n",
      "2017-07-03 00:00:00 {'600000.XSHG': 9432.0} -27.2046720000748 118438.71532799992\n",
      "2017-08-01 00:00:00 {'600000.XSHG': 0.0} 126479.88203999991 126479.88203999991\n",
      "2017-09-01 00:00:00 {'600000.XSHG': 9904.0} -32.140184000092276 126441.93981599991\n",
      "2017-10-09 00:00:00 {'600000.XSHG': 0.0} 128948.1272079999 128948.1272079999\n",
      "2017-11-01 00:00:00 {'600000.XSHG': 10282.0} -26.8336760000808 128909.4463239999\n",
      "2017-12-01 00:00:00 {'600000.XSHG': 0.0} 132541.22351799993 132541.22351799993\n"
     ]
    }
   ],
   "source": [
    "sim.reset()\n",
    "sim.logger.setLevel(logging.INFO)\n",
    "for index, date in enumerate(get_sample_point()):\n",
    "    sim.date = date[0]\n",
    "    if index % 2 == 0:\n",
    "        sim.order_value('600000.XSHG', sim.cash)\n",
    "    else:\n",
    "        sim.order_target('600000.XSHG', 0)\n",
    "    print(sim.date, dict(sim.stock), sim.cash, sim.get_asset())"
   ]
  },
  {
   "cell_type": "code",
   "execution_count": 14,
   "metadata": {
    "scrolled": true
   },
   "outputs": [
    {
     "data": {
      "text/plain": [
       "000001.XSHE       0\n",
       "000002.XSHE       0\n",
       "000060.XSHE       0\n",
       "000063.XSHE       0\n",
       "000069.XSHE       0\n",
       "000100.XSHE       0\n",
       "000157.XSHE       0\n",
       "000166.XSHE     498\n",
       "000333.XSHE     170\n",
       "000338.XSHE       0\n",
       "000402.XSHE       0\n",
       "000413.XSHE       0\n",
       "000415.XSHE       0\n",
       "000423.XSHE       0\n",
       "000425.XSHE       0\n",
       "000503.XSHE       0\n",
       "000538.XSHE       0\n",
       "000540.XSHE       0\n",
       "000559.XSHE       0\n",
       "000568.XSHE       0\n",
       "000623.XSHE       0\n",
       "000625.XSHE       0\n",
       "000627.XSHE       0\n",
       "000630.XSHE       0\n",
       "000651.XSHE       0\n",
       "000671.XSHE       0\n",
       "000709.XSHE       0\n",
       "000723.XSHE       0\n",
       "000725.XSHE       0\n",
       "000728.XSHE       0\n",
       "               ... \n",
       "601818.XSHG       0\n",
       "601828.XSHG    1226\n",
       "601838.XSHG    1236\n",
       "601857.XSHG       0\n",
       "601866.XSHG       0\n",
       "601877.XSHG       0\n",
       "601878.XSHG    1085\n",
       "601881.XSHG     985\n",
       "601888.XSHG       0\n",
       "601898.XSHG       0\n",
       "601899.XSHG       0\n",
       "601901.XSHG       0\n",
       "601919.XSHG       0\n",
       "601933.XSHG       0\n",
       "601939.XSHG       0\n",
       "601958.XSHG       0\n",
       "601985.XSHG     588\n",
       "601988.XSHG       0\n",
       "601989.XSHG       0\n",
       "601991.XSHG       0\n",
       "601992.XSHG       0\n",
       "601997.XSHG     879\n",
       "601998.XSHG       0\n",
       "603160.XSHG     916\n",
       "603260.XSHG    1170\n",
       "603288.XSHG     261\n",
       "603799.XSHG     501\n",
       "603833.XSHG    1026\n",
       "603858.XSHG     940\n",
       "603993.XSHG       0\n",
       "Length: 300, dtype: int64"
      ]
     },
     "execution_count": 14,
     "metadata": {},
     "output_type": "execute_result"
    }
   ],
   "source": [
    "sim.hs300_k_data['close'].isnull().sum()"
   ]
  },
  {
   "cell_type": "code",
   "execution_count": 17,
   "metadata": {},
   "outputs": [
    {
     "data": {
      "text/plain": [
       "True"
      ]
     },
     "execution_count": 17,
     "metadata": {},
     "output_type": "execute_result"
    }
   ],
   "source": [
    "np.isnan(sim.hs300_k_data['close'].loc['2017-08-07']['603260.XSHG'])"
   ]
  },
  {
   "cell_type": "code",
   "execution_count": null,
   "metadata": {
    "collapsed": true
   },
   "outputs": [],
   "source": []
  }
 ],
 "metadata": {
  "kernelspec": {
   "display_name": "Python 3",
   "language": "python",
   "name": "python3"
  },
  "language_info": {
   "codemirror_mode": {
    "name": "ipython",
    "version": 3
   },
   "file_extension": ".py",
   "mimetype": "text/x-python",
   "name": "python",
   "nbconvert_exporter": "python",
   "pygments_lexer": "ipython3",
   "version": "3.6.5"
  }
 },
 "nbformat": 4,
 "nbformat_minor": 2
}
