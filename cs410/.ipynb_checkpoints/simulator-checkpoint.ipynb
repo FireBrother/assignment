{
 "cells": [
  {
   "cell_type": "code",
   "execution_count": 1,
   "metadata": {},
   "outputs": [],
   "source": [
    "from simulator import Simulator\n",
    "import logging\n",
    "logging.basicConfig(level=logging.DEBUG)"
   ]
  },
  {
   "cell_type": "code",
   "execution_count": 2,
   "metadata": {
    "scrolled": true
   },
   "outputs": [
    {
     "name": "stderr",
     "output_type": "stream",
     "text": [
      "INFO:simulator:【模拟器初始化】数据路径：hs300_k_data_hfq.json，起始现金：100000，起始日期：2015-01-01，手续费：0.03%（最低5元)，印花税：0.1%\n"
     ]
    }
   ],
   "source": [
    "sim = Simulator()"
   ]
  },
  {
   "cell_type": "code",
   "execution_count": 3,
   "metadata": {},
   "outputs": [
    {
     "name": "stderr",
     "output_type": "stream",
     "text": [
      "DEBUG:simulator:【创建固定金额交易】股票代码：600000，金额：100000，日期：2017-01-06\n",
      "DEBUG:simulator:【发生交易】股票代码：600000，数量：867，日期：2017-01-06\n",
      "DEBUG:simulator:【交易成功】手续费：29.98，印花税：0.00，当前持仓量：867，现金：28.326493\n",
      "DEBUG:simulator:【创建目标股数交易】股票代码：600000，股数：0，日期：2018-01-08\n",
      "DEBUG:simulator:【发生交易】股票代码：600000，数量：-867，日期：2018-01-08\n",
      "DEBUG:simulator:【交易成功】手续费：30.94，印花税：103.12，当前持仓量：0，现金：103014.383346\n"
     ]
    }
   ],
   "source": [
    "sim.date = '2017-01-06'\n",
    "sim.order_value('600000', sim.cash)\n",
    "sim.date = '2018-01-08'\n",
    "sim.order_target('600000', 0)"
   ]
  },
  {
   "cell_type": "code",
   "execution_count": 4,
   "metadata": {
    "scrolled": true
   },
   "outputs": [],
   "source": [
    "sim.reset()"
   ]
  },
  {
   "cell_type": "code",
   "execution_count": 5,
   "metadata": {
    "scrolled": true
   },
   "outputs": [
    {
     "name": "stderr",
     "output_type": "stream",
     "text": [
      "DEBUG:simulator:【创建固定金额交易】股票代码：600000，金额：50000，日期：2017-01-06\n",
      "DEBUG:simulator:【发生交易】股票代码：600000，数量：433，日期：2017-01-06\n",
      "DEBUG:simulator:【交易成功】手续费：14.97，印花税：0.00，当前持仓量：433，现金：50071.817037\n",
      "DEBUG:simulator:【创建固定金额交易】股票代码：600008，金额：50071，日期：2017-01-06\n",
      "DEBUG:simulator:【发生交易】股票代码：600008，数量：2149，日期：2017-01-06\n",
      "DEBUG:simulator:【交易成功】手续费：15.02，印花税：0.00，当前持仓量：2149，现金：-4.156249\n",
      "DEBUG:simulator:【创建目标股数交易】股票代码：600000，股数：0，日期：2018-01-08\n",
      "DEBUG:simulator:【发生交易】股票代码：600000，数量：-433，日期：2018-01-08\n",
      "DEBUG:simulator:【交易成功】手续费：15.45，印花税：51.50，当前持仓量：0，现金：51429.479988\n",
      "DEBUG:simulator:【创建目标股数交易】股票代码：600008，股数：0，日期：2018-01-08\n",
      "DEBUG:simulator:【发生交易】股票代码：600008，数量：-2149，日期：2018-01-08\n",
      "DEBUG:simulator:【交易成功】手续费：20.52，印花税：68.40，当前持仓量：0，现金：119736.787898\n"
     ]
    }
   ],
   "source": [
    "sim.date = '2017-01-06'\n",
    "sim.order_value('600000', sim.cash/2)\n",
    "sim.order_value('600008', sim.cash)\n",
    "sim.date = '2018-01-08'\n",
    "sim.order_target('600000', 0)\n",
    "sim.order_target('600008', 0)"
   ]
  },
  {
   "cell_type": "code",
   "execution_count": 6,
   "metadata": {},
   "outputs": [
    {
     "name": "stderr",
     "output_type": "stream",
     "text": [
      "INFO:simulator:【模拟器初始化】数据路径：hs300_k_data_qfq.json，起始现金：100000，起始日期：2015-01-01，手续费：0.03%（最低5元)，印花税：0.1%\n"
     ]
    }
   ],
   "source": [
    "qfq_sim = Simulator('hs300_k_data_qfq.json')"
   ]
  },
  {
   "cell_type": "code",
   "execution_count": 8,
   "metadata": {},
   "outputs": [
    {
     "name": "stderr",
     "output_type": "stream",
     "text": [
      "DEBUG:simulator:【创建固定金额交易】股票代码：600000，金额：50000，日期：2017-01-06\n",
      "DEBUG:simulator:【发生交易】股票代码：600000，数量：4068，日期：2017-01-06\n",
      "DEBUG:simulator:【交易成功】手续费：15.00，印花税：0.00，当前持仓量：4068，现金：49993.350504\n",
      "DEBUG:simulator:【创建固定金额交易】股票代码：600008，金额：49993，日期：2017-01-06\n",
      "DEBUG:simulator:【发生交易】股票代码：600008，数量：12265，日期：2017-01-06\n",
      "DEBUG:simulator:【交易成功】手续费：15.00，印花税：0.00，当前持仓量：12265，现金：-13.787138\n",
      "DEBUG:simulator:【创建目标股数交易】股票代码：600000，股数：0，日期：2018-01-08\n",
      "DEBUG:simulator:【发生交易】股票代码：600000，数量：-4068，日期：2018-01-08\n",
      "DEBUG:simulator:【交易成功】手续费：15.47，印花税：51.58，当前持仓量：0，现金：51501.395950\n",
      "DEBUG:simulator:【创建目标股数交易】股票代码：600008，股数：0，日期：2018-01-08\n",
      "DEBUG:simulator:【发生交易】股票代码：600008，数量：-12265，日期：2018-01-08\n",
      "DEBUG:simulator:【交易成功】手续费：20.49，印花税：68.29，当前持仓量：0，现金：119704.136974\n"
     ]
    }
   ],
   "source": [
    "qfq_sim.date = '2017-01-06'\n",
    "qfq_sim.order_value('600000', qfq_sim.cash/2)\n",
    "qfq_sim.order_value('600008', qfq_sim.cash)\n",
    "qfq_sim.date = '2018-01-08'\n",
    "qfq_sim.order_target('600000', 0)\n",
    "qfq_sim.order_target('600008', 0)"
   ]
  },
  {
   "cell_type": "code",
   "execution_count": 8,
   "metadata": {},
   "outputs": [
    {
     "ename": "NameError",
     "evalue": "name 'hs300_k_data' is not defined",
     "output_type": "error",
     "traceback": [
      "\u001b[0;31m---------------------------------------------------------------------------\u001b[0m",
      "\u001b[0;31mNameError\u001b[0m                                 Traceback (most recent call last)",
      "\u001b[0;32m<ipython-input-8-10379bc213a0>\u001b[0m in \u001b[0;36m<module>\u001b[0;34m()\u001b[0m\n\u001b[0;32m----> 1\u001b[0;31m \u001b[0mhs300_k_data\u001b[0m\u001b[0;34m[\u001b[0m\u001b[0;34m(\u001b[0m\u001b[0mhs300_k_data\u001b[0m\u001b[0;34m.\u001b[0m\u001b[0mcode\u001b[0m\u001b[0;34m==\u001b[0m\u001b[0;34m'600000'\u001b[0m\u001b[0;34m)\u001b[0m \u001b[0;34m&\u001b[0m \u001b[0;34m(\u001b[0m\u001b[0mhs300_k_data\u001b[0m\u001b[0;34m.\u001b[0m\u001b[0mdate\u001b[0m\u001b[0;34m==\u001b[0m\u001b[0;34m'2017-01-06'\u001b[0m\u001b[0;34m)\u001b[0m\u001b[0;34m]\u001b[0m\u001b[0;34m\u001b[0m\u001b[0m\n\u001b[0m",
      "\u001b[0;31mNameError\u001b[0m: name 'hs300_k_data' is not defined"
     ]
    }
   ],
   "source": [
    "hs300_k_data[(hs300_k_data.code=='600000') & (hs300_k_data.date=='2017-01-06')]"
   ]
  },
  {
   "cell_type": "code",
   "execution_count": 10,
   "metadata": {},
   "outputs": [
    {
     "data": {
      "text/plain": [
       "103014.38334580002"
      ]
     },
     "execution_count": 10,
     "metadata": {},
     "output_type": "execute_result"
    }
   ],
   "source": [
    "sim.cash"
   ]
  },
  {
   "cell_type": "code",
   "execution_count": 11,
   "metadata": {},
   "outputs": [
    {
     "data": {
      "text/plain": [
       "103014.38334580002"
      ]
     },
     "execution_count": 11,
     "metadata": {},
     "output_type": "execute_result"
    }
   ],
   "source": [
    "sim.get_asset()"
   ]
  },
  {
   "cell_type": "code",
   "execution_count": 5,
   "metadata": {},
   "outputs": [
    {
     "data": {
      "text/plain": [
       "'2018-01-08'"
      ]
     },
     "execution_count": 5,
     "metadata": {},
     "output_type": "execute_result"
    }
   ],
   "source": [
    "sim.date"
   ]
  },
  {
   "cell_type": "code",
   "execution_count": null,
   "metadata": {
    "collapsed": true
   },
   "outputs": [],
   "source": []
  }
 ],
 "metadata": {
  "kernelspec": {
   "display_name": "Python 3",
   "language": "python",
   "name": "python3"
  },
  "language_info": {
   "codemirror_mode": {
    "name": "ipython",
    "version": 3
   },
   "file_extension": ".py",
   "mimetype": "text/x-python",
   "name": "python",
   "nbconvert_exporter": "python",
   "pygments_lexer": "ipython3",
   "version": "3.6.3"
  }
 },
 "nbformat": 4,
 "nbformat_minor": 2
}
